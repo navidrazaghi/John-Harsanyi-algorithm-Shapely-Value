{
 "cells": [
  {
   "cell_type": "markdown",
   "metadata": {},
   "source": [
    "Coalitional Game\n",
    "\n",
    "Shapely value\n",
    "\n",
    "John Harsanyi algorithm\n",
    "\n",
    "(For 3 and 4 players)"
   ]
  },
  {
   "cell_type": "code",
   "execution_count": 146,
   "metadata": {},
   "outputs": [],
   "source": [
    "class coalition:\n",
    "    def __init__(self, coa, value):\n",
    "        self.coa = coa\n",
    "        self.value = value\n",
    "\n",
    "def is_subtuple(sub, main):\n",
    "    it = iter(main)\n",
    "    return all(item in it for item in sub)"
   ]
  },
  {
   "cell_type": "markdown",
   "metadata": {},
   "source": [
    "3 players"
   ]
  },
  {
   "cell_type": "markdown",
   "metadata": {},
   "source": [
    "![alt text](1.png)"
   ]
  },
  {
   "cell_type": "markdown",
   "metadata": {},
   "source": [
    "![alt text](2.png)"
   ]
  },
  {
   "cell_type": "code",
   "execution_count": 147,
   "metadata": {},
   "outputs": [],
   "source": [
    "c1 = coalition((1,), 6)\n",
    "c2 = coalition((2,), 12)\n",
    "c3 = coalition((3,), 18)\n",
    "c4 = coalition((1,2), 30)\n",
    "c5 = coalition((1,3), 60)\n",
    "c6 = coalition((2,3), 90)\n",
    "c7 = coalition((1,2,3), 120)"
   ]
  },
  {
   "cell_type": "code",
   "execution_count": 148,
   "metadata": {},
   "outputs": [
    {
     "name": "stdout",
     "output_type": "stream",
     "text": [
      "x1 =  22.0\n",
      "x2 =  40.0\n",
      "x3 =  58.0\n"
     ]
    }
   ],
   "source": [
    "Cs = [c1,c2,c3,c4,c5,c6,c7]\n",
    "p1Values = []\n",
    "p2Values = []\n",
    "p3Values = []\n",
    "continueIteration = True;\n",
    "while(continueIteration):\n",
    "  for ci in Cs:\n",
    "    if(ci.value != 0):\n",
    "      lengthOfCoa = len(ci.coa)\n",
    "      for i in ci.coa:\n",
    "        if(i == 1):\n",
    "          p1Values.append((ci.value)/lengthOfCoa)\n",
    "          p2Values.append(0)\n",
    "          p3Values.append(0)\n",
    "        if(i == 2):\n",
    "          p2Values.append((ci.value)/lengthOfCoa)  \n",
    "          p1Values.append(0)\n",
    "          p3Values.append(0)              \n",
    "        if(i == 3):\n",
    "          p3Values.append((ci.value)/lengthOfCoa)  \n",
    "          p1Values.append(0)\n",
    "          p2Values.append(0)  \n",
    "      temp = ci.value\n",
    "      for j in Cs:\n",
    "        if(is_subtuple(ci.coa,j.coa)):\n",
    "          j.value = j.value - temp\n",
    "      break\n",
    "  flag = 0\n",
    "  for ci in Cs:\n",
    "    if(ci.value != 0): \n",
    "      flag = 1\n",
    "  if(flag == 0):\n",
    "    continueIteration = False\n",
    "print(\"x1 = \", sum(p1Values))\n",
    "print(\"x2 = \", sum(p2Values))\n",
    "print(\"x3 = \", sum(p3Values))"
   ]
  },
  {
   "cell_type": "markdown",
   "metadata": {},
   "source": [
    "4 Players"
   ]
  },
  {
   "cell_type": "markdown",
   "metadata": {},
   "source": [
    "![alt text](3.png)"
   ]
  },
  {
   "cell_type": "code",
   "execution_count": 149,
   "metadata": {},
   "outputs": [],
   "source": [
    "#Now we try for 4 players \n",
    "c1 = coalition((1,), 6)\n",
    "c2 = coalition((2,), 12)\n",
    "c3 = coalition((3,), 0)\n",
    "c4 = coalition((4,), 18)\n",
    "c5 = coalition((1,2), 24)\n",
    "c6 = coalition((1,3), 48)\n",
    "c7 = coalition((1,4), 60)\n",
    "c8 = coalition((2,4), 32)\n",
    "c9 = coalition((3,4), 38)\n",
    "c10 = coalition((2,3), 12)\n",
    "c11 = coalition((1,2,3), 120)\n",
    "c12 = coalition((1,2,4), 89)\n",
    "c13 = coalition((1,3,4), 150)\n",
    "c14 = coalition((2,3,4), 179)\n",
    "c15 = coalition((1,2,3,4), 240)"
   ]
  },
  {
   "cell_type": "code",
   "execution_count": 150,
   "metadata": {},
   "outputs": [
    {
     "name": "stdout",
     "output_type": "stream",
     "text": [
      "x1 =  48.333333333333336\n",
      "x2 =  49.333333333333336\n",
      "x3 =  70.66666666666667\n",
      "x4 =  71.66666666666667\n"
     ]
    }
   ],
   "source": [
    "Cs = [c1,c2,c3,c4,c5,c6,c7,c8,c9,c10,c11,c12,c13,c14,c15]\n",
    "p1Values = []\n",
    "p2Values = []\n",
    "p3Values = []\n",
    "p4Values = []\n",
    "continueIteration = True;\n",
    "while(continueIteration):\n",
    "  for ci in Cs:\n",
    "    if(ci.value != 0):\n",
    "      lengthOfCoa = len(ci.coa)\n",
    "      for i in ci.coa:\n",
    "        if(i == 1):\n",
    "          p1Values.append((ci.value)/lengthOfCoa)\n",
    "          p2Values.append(0)\n",
    "          p3Values.append(0)\n",
    "          p4Values.append(0)\n",
    "        if(i == 2):\n",
    "          p2Values.append((ci.value)/lengthOfCoa)  \n",
    "          p1Values.append(0)\n",
    "          p3Values.append(0)\n",
    "          p4Values.append(0)              \n",
    "        if(i == 3):\n",
    "          p3Values.append((ci.value)/lengthOfCoa)  \n",
    "          p1Values.append(0)\n",
    "          p2Values.append(0)\n",
    "          p4Values.append(0)  \n",
    "        if(i == 4):\n",
    "          p4Values.append((ci.value)/lengthOfCoa)  \n",
    "          p1Values.append(0)\n",
    "          p2Values.append(0)\n",
    "          p3Values.append(0)           \n",
    "      temp = ci.value\n",
    "      for j in Cs:\n",
    "        if(is_subtuple(ci.coa,j.coa)):\n",
    "          j.value = j.value - temp\n",
    "      break\n",
    "  flag = 0\n",
    "  for ci in Cs:\n",
    "    if(ci.value != 0): \n",
    "      flag = 1\n",
    "  if(flag == 0):\n",
    "    continueIteration = False\n",
    "print(\"x1 = \", sum(p1Values))\n",
    "print(\"x2 = \", sum(p2Values))\n",
    "print(\"x3 = \", sum(p3Values))\n",
    "print(\"x4 = \", sum(p4Values))"
   ]
  }
 ],
 "metadata": {
  "kernelspec": {
   "display_name": "Python 3",
   "language": "python",
   "name": "python3"
  },
  "language_info": {
   "codemirror_mode": {
    "name": "ipython",
    "version": 3
   },
   "file_extension": ".py",
   "mimetype": "text/x-python",
   "name": "python",
   "nbconvert_exporter": "python",
   "pygments_lexer": "ipython3",
   "version": "3.12.0"
  }
 },
 "nbformat": 4,
 "nbformat_minor": 2
}
